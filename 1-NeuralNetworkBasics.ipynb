{
 "cells": [
  {
   "cell_type": "markdown",
   "metadata": {},
   "source": [
    "# 1. Neural Network Basics"
   ]
  },
  {
   "cell_type": "code",
   "execution_count": 1,
   "metadata": {},
   "outputs": [
    {
     "name": "stderr",
     "output_type": "stream",
     "text": [
      "/anaconda/lib/python2.7/site-packages/h5py/__init__.py:34: FutureWarning: Conversion of the second argument of issubdtype from `float` to `np.floating` is deprecated. In future, it will be treated as `np.float64 == np.dtype(float).type`.\n",
      "  from ._conv import register_converters as _register_converters\n",
      "Using TensorFlow backend.\n"
     ]
    }
   ],
   "source": [
    "import numpy as np\n",
    "\n",
    "import keras\n",
    "from keras.models import Sequential\n",
    "from keras.layers import Dense, Activation\n",
    "\n",
    "np.random.seed(10)"
   ]
  },
  {
   "cell_type": "markdown",
   "metadata": {},
   "source": [
    "(ignore warning messages if you see any)"
   ]
  },
  {
   "cell_type": "markdown",
   "metadata": {},
   "source": [
    "## 1.1 How a Neural Network Makes Predictions"
   ]
  },
  {
   "cell_type": "code",
   "execution_count": 2,
   "metadata": {},
   "outputs": [
    {
     "name": "stdout",
     "output_type": "stream",
     "text": [
      "[[0.77132064 0.02075195 0.63364823]\n",
      " [0.74880388 0.49850701 0.22479665]\n",
      " [0.19806286 0.76053071 0.16911084]]\n",
      "[[1.]\n",
      " [1.]\n",
      " [0.]]\n"
     ]
    }
   ],
   "source": [
    "# example input/response mapping \n",
    "def f(x):\n",
    "    return np.where(np.dot(x, np.random.rand(3, 1)) > 0.8, 1., 0.)\n",
    "    \n",
    "X = np.random.random((1000, 3))\n",
    "y_true = f(X)\n",
    "\n",
    "print(X[:3])\n",
    "print(y_true[:3])"
   ]
  },
  {
   "cell_type": "markdown",
   "metadata": {},
   "source": [
    "Network topology:\n",
    "\n",
    "<img src=\"images/Network.png\"/>"
   ]
  },
  {
   "cell_type": "code",
   "execution_count": 3,
   "metadata": {},
   "outputs": [],
   "source": [
    "# create the model\n",
    "neural_network = Sequential()"
   ]
  },
  {
   "cell_type": "code",
   "execution_count": 4,
   "metadata": {},
   "outputs": [],
   "source": [
    "hidden_layer1 = Dense(units=2, activation=\"relu\", input_dim=3)\n",
    "neural_network.add(hidden_layer1)"
   ]
  },
  {
   "cell_type": "code",
   "execution_count": 5,
   "metadata": {},
   "outputs": [],
   "source": [
    "hidden_layer2 = Dense(units=3, activation='relu')\n",
    "neural_network.add(hidden_layer2)\n",
    "\n",
    "output_layer = Dense(units=2, activation=\"sigmoid\")\n",
    "neural_network.add(output_layer)"
   ]
  },
  {
   "cell_type": "code",
   "execution_count": 6,
   "metadata": {},
   "outputs": [
    {
     "name": "stdout",
     "output_type": "stream",
     "text": [
      "_________________________________________________________________\n",
      "Layer (type)                 Output Shape              Param #   \n",
      "=================================================================\n",
      "dense_1 (Dense)              (None, 2)                 8         \n",
      "_________________________________________________________________\n",
      "dense_2 (Dense)              (None, 3)                 9         \n",
      "_________________________________________________________________\n",
      "dense_3 (Dense)              (None, 2)                 8         \n",
      "=================================================================\n",
      "Total params: 25\n",
      "Trainable params: 25\n",
      "Non-trainable params: 0\n",
      "_________________________________________________________________\n"
     ]
    }
   ],
   "source": [
    "# summarize model architecture\n",
    "neural_network.summary()"
   ]
  },
  {
   "cell_type": "code",
   "execution_count": 7,
   "metadata": {},
   "outputs": [],
   "source": [
    "# let's manually set the network's weights \n",
    "# (input neuron weights, bias weights)\n",
    "\n",
    "## input --> hidden layer 1\n",
    "random_weights1 = [np.random.random((3, 2)), np.ones(2)]\n",
    "neural_network.layers[0].set_weights(random_weights1)\n",
    "\n",
    "## hidden layer 1 --> hidden layer 2\n",
    "random_weight2 = [np.random.random((2, 3)), np.ones(3)]\n",
    "neural_network.layers[1].set_weights(random_weight2)\n",
    "\n",
    "## hidden layer 2 --> output layer\n",
    "random_weight3 = [np.random.random((3, 2)), np.ones(2)]\n",
    "neural_network.layers[2].set_weights(random_weight3)"
   ]
  },
  {
   "cell_type": "code",
   "execution_count": 8,
   "metadata": {},
   "outputs": [
    {
     "name": "stdout",
     "output_type": "stream",
     "text": [
      "Pred y:\t[0 0 0 0 0 0 0 0 0 0]\n",
      "True y:\t[1. 1. 0. 0. 0. 1. 1. 0. 1. 1.]\n"
     ]
    }
   ],
   "source": [
    "# predict y from a few X's\n",
    "X_sample = X[:10,:]\n",
    "y_sample_pred = neural_network.predict_classes(X_sample)\n",
    "y_sample_true = y_true[:10]\n",
    "print(\"Pred y:\\t{}\".format(y_sample_pred.reshape(-1)))\n",
    "print(\"True y:\\t{}\".format(y_sample_true.reshape(-1)))"
   ]
  },
  {
   "cell_type": "code",
   "execution_count": 9,
   "metadata": {},
   "outputs": [
    {
     "name": "stdout",
     "output_type": "stream",
     "text": [
      "Accuracy: 49.4%\n"
     ]
    }
   ],
   "source": [
    "# evaluate model on predictive accuracy for all X\n",
    "y_pred = neural_network.predict_classes(X)\n",
    "acc = sum(y_true == y_pred.reshape(-1))[0]/float(y_true.shape[0])*100\n",
    "print(\"Accuracy: {}%\".format(acc))"
   ]
  },
  {
   "cell_type": "markdown",
   "metadata": {},
   "source": [
    "## 1.2. How to Train a Neural Network"
   ]
  },
  {
   "cell_type": "markdown",
   "metadata": {},
   "source": [
    "Network topology:\n",
    "\n",
    "<img src=\"images/Network.png\"/>"
   ]
  },
  {
   "cell_type": "code",
   "execution_count": 10,
   "metadata": {},
   "outputs": [],
   "source": [
    "# create model\n",
    "\n",
    "smart_neural_network = Sequential()\n",
    "\n",
    "hidden_layer1 = Dense(units=2, activation=\"relu\", input_dim=3)\n",
    "smart_neural_network.add(hidden_layer1)\n",
    "\n",
    "hidden_layer2 = Dense(units=3, activation=\"relu\")\n",
    "smart_neural_network.add(hidden_layer2)\n",
    "\n",
    "output_layer = Dense(units=2, activation=\"sigmoid\")\n",
    "smart_neural_network.add(output_layer)"
   ]
  },
  {
   "cell_type": "code",
   "execution_count": 11,
   "metadata": {},
   "outputs": [],
   "source": [
    "# define training parameters\n",
    "smart_neural_network.compile(metrics=['accuracy'],\n",
    "                             loss='binary_crossentropy',\n",
    "                             optimizer='rmsprop')"
   ]
  },
  {
   "cell_type": "code",
   "execution_count": 12,
   "metadata": {},
   "outputs": [
    {
     "name": "stdout",
     "output_type": "stream",
     "text": [
      "[[0. 1.]\n",
      " [0. 1.]\n",
      " [1. 0.]\n",
      " [1. 0.]\n",
      " [1. 0.]]\n"
     ]
    }
   ],
   "source": [
    "# pre-processing: convert responses to 2d categorical vectors\n",
    "from keras.utils import np_utils\n",
    "y_categorical = np_utils.to_categorical(y_true)\n",
    "print(y_categorical[:5])"
   ]
  },
  {
   "cell_type": "markdown",
   "metadata": {},
   "source": [
    "<img src=\"images/GradientDescent.png\" width=400/>"
   ]
  },
  {
   "cell_type": "code",
   "execution_count": null,
   "metadata": {},
   "outputs": [],
   "source": [
    "# train the model for a number of rounds\n",
    "intial_weights = smart_neural_network.get_weights()\n",
    "smart_neural_network.fit(X, y_categorical, \n",
    "                         epochs=100,\n",
    "                         batch_size=32\n",
    ")"
   ]
  },
  {
   "cell_type": "code",
   "execution_count": 16,
   "metadata": {},
   "outputs": [
    {
     "name": "stdout",
     "output_type": "stream",
     "text": [
      "['loss', 'acc']\n"
     ]
    }
   ],
   "source": [
    "print(smart_neural_network.metrics_names)"
   ]
  },
  {
   "cell_type": "code",
   "execution_count": 17,
   "metadata": {},
   "outputs": [
    {
     "name": "stdout",
     "output_type": "stream",
     "text": [
      "1000/1000 [==============================] - 0s 237us/step\n",
      "Training accuracy: 98.7%\n"
     ]
    }
   ],
   "source": [
    "# evaluate the model accuracy on training data\n",
    "score = smart_neural_network.evaluate(X, y_categorical)\n",
    "print('Training accuracy: {}%'.format(score[1]*100))"
   ]
  },
  {
   "cell_type": "markdown",
   "metadata": {},
   "source": [
    "### But how well can our neural network do on data it's never seen before?"
   ]
  },
  {
   "cell_type": "code",
   "execution_count": 18,
   "metadata": {},
   "outputs": [],
   "source": [
    "# split data into training and validation sets\n",
    "NUM_TRAINING_EXAMPLES = 800\n",
    "\n",
    "X_train = X[:NUM_TRAINING_EXAMPLES]\n",
    "y_train = y_categorical[:NUM_TRAINING_EXAMPLES]\n",
    "X_valid = X[NUM_TRAINING_EXAMPLES:]\n",
    "y_valid = y_categorical[NUM_TRAINING_EXAMPLES:]"
   ]
  },
  {
   "cell_type": "code",
   "execution_count": 19,
   "metadata": {},
   "outputs": [
    {
     "name": "stdout",
     "output_type": "stream",
     "text": [
      "Epoch 1/100\n",
      "800/800 [==============================] - 1s 833us/step - loss: 0.7131 - acc: 0.4887\n",
      "Epoch 2/100\n",
      "800/800 [==============================] - 0s 133us/step - loss: 0.6927 - acc: 0.4619\n",
      "Epoch 3/100\n",
      "800/800 [==============================] - 0s 175us/step - loss: 0.6787 - acc: 0.4394\n",
      "Epoch 4/100\n",
      "800/800 [==============================] - 0s 152us/step - loss: 0.6656 - acc: 0.4894\n",
      "Epoch 5/100\n",
      "800/800 [==============================] - 0s 162us/step - loss: 0.6535 - acc: 0.6300\n",
      "Epoch 6/100\n",
      "800/800 [==============================] - 0s 164us/step - loss: 0.6438 - acc: 0.6550\n",
      "Epoch 7/100\n",
      "800/800 [==============================] - 0s 156us/step - loss: 0.6350 - acc: 0.6550\n",
      "Epoch 8/100\n",
      "800/800 [==============================] - 0s 161us/step - loss: 0.6269 - acc: 0.6550\n",
      "Epoch 9/100\n",
      "800/800 [==============================] - 0s 178us/step - loss: 0.6192 - acc: 0.6550\n",
      "Epoch 10/100\n",
      "800/800 [==============================] - 0s 183us/step - loss: 0.6118 - acc: 0.6550\n",
      "Epoch 11/100\n",
      "800/800 [==============================] - 0s 177us/step - loss: 0.6042 - acc: 0.6550\n",
      "Epoch 12/100\n",
      "800/800 [==============================] - 0s 160us/step - loss: 0.5967 - acc: 0.6550\n",
      "Epoch 13/100\n",
      "800/800 [==============================] - 0s 169us/step - loss: 0.5894 - acc: 0.6550\n",
      "Epoch 14/100\n",
      "800/800 [==============================] - 0s 172us/step - loss: 0.5816 - acc: 0.6550\n",
      "Epoch 15/100\n",
      "800/800 [==============================] - 0s 167us/step - loss: 0.5740 - acc: 0.6550\n",
      "Epoch 16/100\n",
      "800/800 [==============================] - 0s 203us/step - loss: 0.5663 - acc: 0.6550\n",
      "Epoch 17/100\n",
      "800/800 [==============================] - 0s 190us/step - loss: 0.5579 - acc: 0.6556\n",
      "Epoch 18/100\n",
      "800/800 [==============================] - 0s 188us/step - loss: 0.5491 - acc: 0.6600\n",
      "Epoch 19/100\n",
      "800/800 [==============================] - 0s 206us/step - loss: 0.5407 - acc: 0.6613\n",
      "Epoch 20/100\n",
      "800/800 [==============================] - 0s 185us/step - loss: 0.5327 - acc: 0.6669\n",
      "Epoch 21/100\n",
      "800/800 [==============================] - 0s 196us/step - loss: 0.5236 - acc: 0.6788\n",
      "Epoch 22/100\n",
      "800/800 [==============================] - 0s 174us/step - loss: 0.5149 - acc: 0.6869\n",
      "Epoch 23/100\n",
      "800/800 [==============================] - 0s 168us/step - loss: 0.5065 - acc: 0.6913\n",
      "Epoch 24/100\n",
      "800/800 [==============================] - 0s 174us/step - loss: 0.4974 - acc: 0.6969\n",
      "Epoch 25/100\n",
      "800/800 [==============================] - 0s 189us/step - loss: 0.4884 - acc: 0.7087\n",
      "Epoch 26/100\n",
      "800/800 [==============================] - 0s 176us/step - loss: 0.4795 - acc: 0.7112\n",
      "Epoch 27/100\n",
      "800/800 [==============================] - 0s 190us/step - loss: 0.4715 - acc: 0.7169\n",
      "Epoch 28/100\n",
      "800/800 [==============================] - 0s 195us/step - loss: 0.4630 - acc: 0.7256\n",
      "Epoch 29/100\n",
      "800/800 [==============================] - 0s 170us/step - loss: 0.4551 - acc: 0.7281\n",
      "Epoch 30/100\n",
      "800/800 [==============================] - 0s 222us/step - loss: 0.4468 - acc: 0.7319\n",
      "Epoch 31/100\n",
      "800/800 [==============================] - 0s 198us/step - loss: 0.4386 - acc: 0.7350\n",
      "Epoch 32/100\n",
      "800/800 [==============================] - 0s 185us/step - loss: 0.4309 - acc: 0.7394\n",
      "Epoch 33/100\n",
      "800/800 [==============================] - 0s 177us/step - loss: 0.4233 - acc: 0.7450\n",
      "Epoch 34/100\n",
      "800/800 [==============================] - 0s 195us/step - loss: 0.4157 - acc: 0.7506\n",
      "Epoch 35/100\n",
      "800/800 [==============================] - 0s 204us/step - loss: 0.4081 - acc: 0.7519\n",
      "Epoch 36/100\n",
      "800/800 [==============================] - 0s 215us/step - loss: 0.4006 - acc: 0.7538\n",
      "Epoch 37/100\n",
      "800/800 [==============================] - 0s 177us/step - loss: 0.3933 - acc: 0.7606\n",
      "Epoch 38/100\n",
      "800/800 [==============================] - 0s 179us/step - loss: 0.3861 - acc: 0.7587\n",
      "Epoch 39/100\n",
      "800/800 [==============================] - 0s 168us/step - loss: 0.3791 - acc: 0.7631\n",
      "Epoch 40/100\n",
      "800/800 [==============================] - 0s 179us/step - loss: 0.3724 - acc: 0.7656\n",
      "Epoch 41/100\n",
      "800/800 [==============================] - 0s 186us/step - loss: 0.3660 - acc: 0.8325\n",
      "Epoch 42/100\n",
      "800/800 [==============================] - 0s 178us/step - loss: 0.3596 - acc: 0.8544\n",
      "Epoch 43/100\n",
      "800/800 [==============================] - 0s 186us/step - loss: 0.3534 - acc: 0.8550\n",
      "Epoch 44/100\n",
      "800/800 [==============================] - 0s 165us/step - loss: 0.3470 - acc: 0.8669\n",
      "Epoch 45/100\n",
      "800/800 [==============================] - 0s 192us/step - loss: 0.3412 - acc: 0.8694\n",
      "Epoch 46/100\n",
      "800/800 [==============================] - 0s 187us/step - loss: 0.3356 - acc: 0.8788\n",
      "Epoch 47/100\n",
      "800/800 [==============================] - 0s 181us/step - loss: 0.3300 - acc: 0.8781\n",
      "Epoch 48/100\n",
      "800/800 [==============================] - 0s 170us/step - loss: 0.3245 - acc: 0.8850\n",
      "Epoch 49/100\n",
      "800/800 [==============================] - 0s 164us/step - loss: 0.3191 - acc: 0.8856\n",
      "Epoch 50/100\n",
      "800/800 [==============================] - 0s 167us/step - loss: 0.3139 - acc: 0.8881\n",
      "Epoch 51/100\n",
      "800/800 [==============================] - 0s 175us/step - loss: 0.3089 - acc: 0.8950\n",
      "Epoch 52/100\n",
      "800/800 [==============================] - 0s 179us/step - loss: 0.3038 - acc: 0.8950\n",
      "Epoch 53/100\n",
      "800/800 [==============================] - 0s 199us/step - loss: 0.2986 - acc: 0.8994\n",
      "Epoch 54/100\n",
      "800/800 [==============================] - 0s 194us/step - loss: 0.2937 - acc: 0.9050\n",
      "Epoch 55/100\n",
      "800/800 [==============================] - 0s 192us/step - loss: 0.2891 - acc: 0.9012\n",
      "Epoch 56/100\n",
      "800/800 [==============================] - 0s 186us/step - loss: 0.2847 - acc: 0.9113\n",
      "Epoch 57/100\n",
      "800/800 [==============================] - 0s 164us/step - loss: 0.2799 - acc: 0.9156\n",
      "Epoch 58/100\n",
      "800/800 [==============================] - 0s 170us/step - loss: 0.2752 - acc: 0.9213\n",
      "Epoch 59/100\n",
      "800/800 [==============================] - 0s 185us/step - loss: 0.2711 - acc: 0.9194\n",
      "Epoch 60/100\n",
      "800/800 [==============================] - 0s 189us/step - loss: 0.2666 - acc: 0.9237\n",
      "Epoch 61/100\n",
      "800/800 [==============================] - 0s 186us/step - loss: 0.2625 - acc: 0.9219\n",
      "Epoch 62/100\n",
      "800/800 [==============================] - 0s 171us/step - loss: 0.2581 - acc: 0.9269\n",
      "Epoch 63/100\n",
      "800/800 [==============================] - 0s 190us/step - loss: 0.2537 - acc: 0.9331\n",
      "Epoch 64/100\n",
      "800/800 [==============================] - 0s 189us/step - loss: 0.2500 - acc: 0.9319\n",
      "Epoch 65/100\n",
      "800/800 [==============================] - 0s 185us/step - loss: 0.2459 - acc: 0.9331\n",
      "Epoch 66/100\n",
      "800/800 [==============================] - 0s 182us/step - loss: 0.2419 - acc: 0.9375\n",
      "Epoch 67/100\n",
      "800/800 [==============================] - 0s 186us/step - loss: 0.2380 - acc: 0.9431\n",
      "Epoch 68/100\n",
      "800/800 [==============================] - 0s 177us/step - loss: 0.2343 - acc: 0.9431\n",
      "Epoch 69/100\n",
      "800/800 [==============================] - 0s 188us/step - loss: 0.2305 - acc: 0.9406\n",
      "Epoch 70/100\n",
      "800/800 [==============================] - 0s 178us/step - loss: 0.2267 - acc: 0.9444\n",
      "Epoch 71/100\n",
      "800/800 [==============================] - 0s 182us/step - loss: 0.2235 - acc: 0.9513\n",
      "Epoch 72/100\n",
      "800/800 [==============================] - 0s 190us/step - loss: 0.2198 - acc: 0.9456\n",
      "Epoch 73/100\n",
      "800/800 [==============================] - 0s 179us/step - loss: 0.2166 - acc: 0.9525\n",
      "Epoch 74/100\n",
      "800/800 [==============================] - 0s 170us/step - loss: 0.2134 - acc: 0.9481\n",
      "Epoch 75/100\n",
      "800/800 [==============================] - 0s 189us/step - loss: 0.2101 - acc: 0.9563\n",
      "Epoch 76/100\n",
      "800/800 [==============================] - 0s 207us/step - loss: 0.2069 - acc: 0.9537\n",
      "Epoch 77/100\n",
      "800/800 [==============================] - 0s 201us/step - loss: 0.2037 - acc: 0.9575\n",
      "Epoch 78/100\n",
      "800/800 [==============================] - 0s 183us/step - loss: 0.2008 - acc: 0.9581\n",
      "Epoch 79/100\n",
      "800/800 [==============================] - 0s 171us/step - loss: 0.1975 - acc: 0.9581\n",
      "Epoch 80/100\n",
      "800/800 [==============================] - 0s 167us/step - loss: 0.1948 - acc: 0.9587\n",
      "Epoch 81/100\n",
      "800/800 [==============================] - 0s 190us/step - loss: 0.1921 - acc: 0.9625\n",
      "Epoch 82/100\n",
      "800/800 [==============================] - 0s 175us/step - loss: 0.1893 - acc: 0.9600\n",
      "Epoch 83/100\n",
      "800/800 [==============================] - 0s 168us/step - loss: 0.1864 - acc: 0.9656\n",
      "Epoch 84/100\n",
      "800/800 [==============================] - 0s 179us/step - loss: 0.1837 - acc: 0.9644\n",
      "Epoch 85/100\n",
      "800/800 [==============================] - 0s 194us/step - loss: 0.1813 - acc: 0.9675\n",
      "Epoch 86/100\n",
      "800/800 [==============================] - 0s 226us/step - loss: 0.1786 - acc: 0.9644\n",
      "Epoch 87/100\n",
      "800/800 [==============================] - 0s 263us/step - loss: 0.1760 - acc: 0.9681\n",
      "Epoch 88/100\n",
      "800/800 [==============================] - 0s 215us/step - loss: 0.1736 - acc: 0.9650\n",
      "Epoch 89/100\n",
      "800/800 [==============================] - 0s 204us/step - loss: 0.1711 - acc: 0.9694\n",
      "Epoch 90/100\n",
      "800/800 [==============================] - 0s 206us/step - loss: 0.1687 - acc: 0.9731\n",
      "Epoch 91/100\n",
      "800/800 [==============================] - 0s 190us/step - loss: 0.1663 - acc: 0.9694\n",
      "Epoch 92/100\n",
      "800/800 [==============================] - 0s 277us/step - loss: 0.1640 - acc: 0.9744\n",
      "Epoch 93/100\n",
      "800/800 [==============================] - 0s 247us/step - loss: 0.1613 - acc: 0.9750\n",
      "Epoch 94/100\n",
      "800/800 [==============================] - 0s 248us/step - loss: 0.1591 - acc: 0.9731\n",
      "Epoch 95/100\n",
      "800/800 [==============================] - 0s 243us/step - loss: 0.1567 - acc: 0.9756\n",
      "Epoch 96/100\n",
      "800/800 [==============================] - 0s 200us/step - loss: 0.1542 - acc: 0.9763\n",
      "Epoch 97/100\n",
      "800/800 [==============================] - 0s 210us/step - loss: 0.1520 - acc: 0.9775\n",
      "Epoch 98/100\n",
      "800/800 [==============================] - 0s 203us/step - loss: 0.1497 - acc: 0.9775\n",
      "Epoch 99/100\n",
      "800/800 [==============================] - 0s 227us/step - loss: 0.1482 - acc: 0.9794\n",
      "Epoch 100/100\n",
      "800/800 [==============================] - 0s 206us/step - loss: 0.1458 - acc: 0.9763\n"
     ]
    },
    {
     "data": {
      "text/plain": [
       "<keras.callbacks.History at 0x13232ec50>"
      ]
     },
     "execution_count": 19,
     "metadata": {},
     "output_type": "execute_result"
    }
   ],
   "source": [
    "# re-train only on training examples\n",
    "smart_neural_network.set_weights(intial_weights)\n",
    "\n",
    "smart_neural_network.compile(metrics=['accuracy'], loss='binary_crossentropy', optimizer='rmsprop')\n",
    "smart_neural_network.fit(X_train, y_train, batch_size=32, epochs=100)   "
   ]
  },
  {
   "cell_type": "code",
   "execution_count": 20,
   "metadata": {},
   "outputs": [
    {
     "name": "stdout",
     "output_type": "stream",
     "text": [
      "200/200 [==============================] - 0s 624us/step\n",
      "Validation accuracy: 98.7%\n"
     ]
    }
   ],
   "source": [
    "# evaluate on validation (never-seen-before) examples \n",
    "validation_scores = smart_neural_network.evaluate(X_valid, y_valid)\n",
    "print('Validation accuracy: {}%'.format(score[1]*100))"
   ]
  },
  {
   "cell_type": "markdown",
   "metadata": {},
   "source": [
    "## Exercise: deep networks"
   ]
  },
  {
   "cell_type": "markdown",
   "metadata": {},
   "source": [
    "Try creating a neural network model with a \"deeper\" architecture (e.g. more than just 1-2 hidden layers). Fit this on the training data from the input/response example given in the notebook and evaluate the predictive error. \n",
    "\n",
    "* Experiment with the number of neurons in each layer.\n",
    "* When training, increase the number of epochs \n",
    "\n",
    "Do you experience any performance gains? Does training run slower than it did before? If so, by how much? Are the performance gains worth it? "
   ]
  },
  {
   "cell_type": "code",
   "execution_count": null,
   "metadata": {},
   "outputs": [],
   "source": [
    "# TODO"
   ]
  },
  {
   "cell_type": "markdown",
   "metadata": {},
   "source": [
    "<i>Sample solution:</i>"
   ]
  },
  {
   "cell_type": "code",
   "execution_count": null,
   "metadata": {},
   "outputs": [],
   "source": [
    "# deep_neural_network = Sequential()\n",
    "# deep_neural_network.add(Dense(128, activation='relu', input_dim=3))\n",
    "# deep_neural_network.add(Dense(64, activation='relu'))\n",
    "# deep_neural_network.add(Dense(32, activation='relu'))\n",
    "# deep_neural_network.add(Dense(2, activation='sigmoid'))\n",
    "# deep_neural_network.compile(metrics=['accuracy'], loss='binary_crossentropy', optimizer='rmsprop')\n",
    "\n",
    "# deep_neural_network.fit(X_train, y_train, epochs=100, batch_size=32)\n",
    "# score = deep_neural_network.evaluate(X_valid, y_valid)\n",
    "\n",
    "# print 'Predictive accuracy on validation data:', score[1]"
   ]
  }
 ],
 "metadata": {
  "kernelspec": {
   "display_name": "Python 3",
   "language": "python",
   "name": "python3"
  },
  "language_info": {
   "codemirror_mode": {
    "name": "ipython",
    "version": 2
   },
   "file_extension": ".py",
   "mimetype": "text/x-python",
   "name": "python",
   "nbconvert_exporter": "python",
   "pygments_lexer": "ipython2",
   "version": "2.7.15"
  }
 },
 "nbformat": 4,
 "nbformat_minor": 2
}
