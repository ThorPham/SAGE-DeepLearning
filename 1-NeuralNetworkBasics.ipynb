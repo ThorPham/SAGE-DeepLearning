{
 "cells": [
  {
   "cell_type": "code",
   "execution_count": 1,
   "metadata": {},
   "outputs": [
    {
     "name": "stderr",
     "output_type": "stream",
     "text": [
      "/anaconda/lib/python2.7/site-packages/h5py/__init__.py:34: FutureWarning: Conversion of the second argument of issubdtype from `float` to `np.floating` is deprecated. In future, it will be treated as `np.float64 == np.dtype(float).type`.\n",
      "  from ._conv import register_converters as _register_converters\n",
      "Using TensorFlow backend.\n"
     ]
    }
   ],
   "source": [
    "import numpy as np\n",
    "\n",
    "import keras\n",
    "from keras.models import Sequential\n",
    "from keras.layers import Dense, Activation\n",
    "\n",
    "np.random.seed(10)"
   ]
  },
  {
   "cell_type": "markdown",
   "metadata": {},
   "source": [
    "(ignore warning messages if you see any)"
   ]
  },
  {
   "cell_type": "markdown",
   "metadata": {},
   "source": [
    "# 1.1 How a Neural Network Makes Predictions (Forward Propagation)"
   ]
  },
  {
   "cell_type": "code",
   "execution_count": 2,
   "metadata": {},
   "outputs": [
    {
     "name": "stdout",
     "output_type": "stream",
     "text": [
      "[[0.77132064 0.02075195 0.63364823]\n",
      " [0.74880388 0.49850701 0.22479665]\n",
      " [0.19806286 0.76053071 0.16911084]]\n",
      "[[1.]\n",
      " [1.]\n",
      " [0.]]\n"
     ]
    }
   ],
   "source": [
    "# example input/response mapping \n",
    "def f(x):\n",
    "    return np.where(np.dot(x, np.random.rand(3, 1)) > 0.8, 1., 0.)\n",
    "    \n",
    "X = np.random.random((1000, 3))\n",
    "y_true = f(X)\n",
    "\n",
    "# print(X[:3])\n",
    "# print(y_true[:3])"
   ]
  },
  {
   "cell_type": "markdown",
   "metadata": {},
   "source": [
    "Network topology:\n",
    "\n",
    "<img src=\"images/Network.png\"/>"
   ]
  },
  {
   "cell_type": "code",
   "execution_count": 3,
   "metadata": {},
   "outputs": [],
   "source": [
    "# create the model\n",
    "neural_network = Sequential()"
   ]
  },
  {
   "cell_type": "code",
   "execution_count": 4,
   "metadata": {},
   "outputs": [],
   "source": [
    "hidden_layer1 = Dense(units=2, activation=\"relu\", input_dim=3)\n",
    "neural_network.add(hidden_layer1)"
   ]
  },
  {
   "cell_type": "code",
   "execution_count": 5,
   "metadata": {},
   "outputs": [],
   "source": [
    "hidden_layer2 = Dense(units=3, activation='relu')\n",
    "neural_network.add(hidden_layer2)\n",
    "\n",
    "output_layer = Dense(units=2, activation=\"sigmoid\")\n",
    "neural_network.add(output_layer)"
   ]
  },
  {
   "cell_type": "code",
   "execution_count": 6,
   "metadata": {},
   "outputs": [
    {
     "name": "stdout",
     "output_type": "stream",
     "text": [
      "_________________________________________________________________\n",
      "Layer (type)                 Output Shape              Param #   \n",
      "=================================================================\n",
      "dense_1 (Dense)              (None, 2)                 8         \n",
      "_________________________________________________________________\n",
      "dense_2 (Dense)              (None, 3)                 9         \n",
      "_________________________________________________________________\n",
      "dense_3 (Dense)              (None, 2)                 8         \n",
      "=================================================================\n",
      "Total params: 25\n",
      "Trainable params: 25\n",
      "Non-trainable params: 0\n",
      "_________________________________________________________________\n"
     ]
    }
   ],
   "source": [
    "# summarize model architecture\n",
    "neural_network.summary()"
   ]
  },
  {
   "cell_type": "code",
   "execution_count": 9,
   "metadata": {},
   "outputs": [],
   "source": [
    "# let's manually set the network's weights \n",
    "## input --> hidden layer 1\n",
    "## [input neuron weights, bias weights]\n",
    "random_weights1 = [np.random.random((3, 2)), np.ones(2)]\n",
    "neural_network.layers[0].set_weights(random_weights1)\n",
    "\n",
    "## hidden layer 1 --> hidden layer 2\n",
    "random_weight2 = [np.random.random((2, 3)), np.ones(3)]\n",
    "neural_network.layers[1].set_weights(random_weight2)\n",
    "\n",
    "## hidden layer 2 --> output layer\n",
    "random_weight3 = [np.random.random((3, 2)), np.ones(2)]\n",
    "neural_network.layers[2].set_weights(random_weight3)"
   ]
  },
  {
   "cell_type": "code",
   "execution_count": 10,
   "metadata": {},
   "outputs": [
    {
     "name": "stdout",
     "output_type": "stream",
     "text": [
      "Pred y:\t[0 0 0 0 0 0 0 0 0 0]\n",
      "True y:\t[1. 1. 0. 0. 0. 1. 1. 0. 1. 1.]\n"
     ]
    }
   ],
   "source": [
    "# predict y from a few X's\n",
    "X_sample = X[:10,:]\n",
    "y_sample_pred = neural_network.predict_classes(X_sample)\n",
    "y_sample_true = y_true[:10]\n",
    "print(\"Pred y:\\t{}\".format(y_sample_pred.reshape(-1)))\n",
    "print(\"True y:\\t{}\".format(y_sample_true.reshape(-1)))"
   ]
  },
  {
   "cell_type": "code",
   "execution_count": 11,
   "metadata": {},
   "outputs": [
    {
     "name": "stdout",
     "output_type": "stream",
     "text": [
      "Predictive accuracy: 49.4%\n"
     ]
    }
   ],
   "source": [
    "# evaluate model on predictive accuracy for all X\n",
    "y_pred = neural_network.predict_classes(X)\n",
    "\n",
    "print \"Predictive accuracy: {}%\".format(sum(y_true == y_pred.reshape(-1))[0]/float(y_true.shape[0])*100)"
   ]
  },
  {
   "cell_type": "markdown",
   "metadata": {},
   "source": [
    "# 1.2. How to Train a Neural Network"
   ]
  },
  {
   "cell_type": "markdown",
   "metadata": {},
   "source": [
    "Network topology:\n",
    "\n",
    "<img src=\"images/Network.png\"/>"
   ]
  },
  {
   "cell_type": "code",
   "execution_count": null,
   "metadata": {},
   "outputs": [],
   "source": [
    "# create model\n",
    "smart_neural_network = Sequential()\n",
    "\n",
    "smart_neural_network.add(Dense(2, activation='relu', input_dim=3))\n",
    "smart_neural_network.add(Dense(3, activation='relu'))\n",
    "smart_neural_network.add(Dense(2, activation='sigmoid'))\n"
   ]
  },
  {
   "cell_type": "code",
   "execution_count": null,
   "metadata": {},
   "outputs": [],
   "source": [
    "# define training parameters\n",
    "smart_neural_network.compile(metrics=['accuracy'],\n",
    "                             loss='binary_crossentropy',\n",
    "                             optimizer='rmsprop')"
   ]
  },
  {
   "cell_type": "code",
   "execution_count": null,
   "metadata": {},
   "outputs": [],
   "source": [
    "# pre-processing: convert responses to 2d categorical vectors\n",
    "from keras.utils import np_utils\n",
    "y_categorical = np_utils.to_categorical(y_true)"
   ]
  },
  {
   "cell_type": "code",
   "execution_count": null,
   "metadata": {},
   "outputs": [],
   "source": [
    "# train the model for a number of rounds\n",
    "intial_weights = smart_neural_network.get_weights()\n",
    "smart_neural_network.fit(X, y_categorical, \n",
    "                         epochs=100,\n",
    "                         batch_size=32\n",
    ")"
   ]
  },
  {
   "cell_type": "code",
   "execution_count": null,
   "metadata": {},
   "outputs": [],
   "source": [
    "print smart_neural_network.metrics_names"
   ]
  },
  {
   "cell_type": "code",
   "execution_count": null,
   "metadata": {},
   "outputs": [],
   "source": [
    "# evaluate the model accuracy on training data\n",
    "score = smart_neural_network.evaluate(X, y_categorical)\n",
    "print 'Predictive accuracy on training data:', score[1]"
   ]
  },
  {
   "cell_type": "markdown",
   "metadata": {},
   "source": [
    "## But how well can our neural network do on data it's never seen before?"
   ]
  },
  {
   "cell_type": "code",
   "execution_count": null,
   "metadata": {},
   "outputs": [],
   "source": [
    "# split data into training and validation sets\n",
    "num_training_examples = 800\n",
    "\n",
    "X_train = X[:num_training_examples]\n",
    "y_train = y_categorical[:num_training_examples]\n",
    "X_valid = X[num_training_examples:]\n",
    "y_valid = y_categorical[num_training_examples:]"
   ]
  },
  {
   "cell_type": "code",
   "execution_count": null,
   "metadata": {},
   "outputs": [],
   "source": [
    "# re-train only on training examples\n",
    "smart_neural_network.set_weights(intial_weights)\n",
    "\n",
    "smart_neural_network.compile(metrics=['accuracy'], loss='binary_crossentropy', optimizer='rmsprop')\n",
    "smart_neural_network.fit(X_train, y_train, epochs=100)   "
   ]
  },
  {
   "cell_type": "code",
   "execution_count": null,
   "metadata": {},
   "outputs": [],
   "source": [
    "# evaluate on validation (never-seen-before) examples \n",
    "validation_scores = smart_neural_network.evaluate(X_valid, y_valid)\n",
    "print 'Predictive accuracy on validation data:', score[1]"
   ]
  },
  {
   "cell_type": "markdown",
   "metadata": {},
   "source": [
    "## Exercise: Deep Learning neural network"
   ]
  },
  {
   "cell_type": "markdown",
   "metadata": {},
   "source": [
    "Try creating a neural network model with a \"deeper\" architecture (e.g. more than just 1-2 hidden layers). Fit this on the training data from the input/response example given in the notebook and evaluate the predictive error. \n",
    "\n",
    "* Experiment with the number of neurons in each layer.\n",
    "* When training, increase the number of epochs \n",
    "\n",
    "Do you experience any performance gains? Does training run slower than it did before? If so, by how much? Are the performance gains worth it? "
   ]
  },
  {
   "cell_type": "code",
   "execution_count": null,
   "metadata": {},
   "outputs": [],
   "source": [
    "# TODO"
   ]
  },
  {
   "cell_type": "markdown",
   "metadata": {},
   "source": [
    "Sample solution:"
   ]
  },
  {
   "cell_type": "code",
   "execution_count": null,
   "metadata": {},
   "outputs": [],
   "source": [
    "# deep_neural_network = Sequential()\n",
    "# deep_neural_network.add(Dense(128, activation='relu', input_dim=3))\n",
    "# deep_neural_network.add(Dense(64, activation='relu'))\n",
    "# deep_neural_network.add(Dense(32, activation='relu'))\n",
    "# deep_neural_network.add(Dense(2, activation='sigmoid'))\n",
    "# deep_neural_network.compile(metrics=['accuracy'], loss='binary_crossentropy', optimizer='rmsprop')\n",
    "\n",
    "# deep_neural_network.fit(X_train, y_train, epochs=100, batch_size=32)\n",
    "# score = deep_neural_network.evaluate(X_valid, y_valid)\n",
    "\n",
    "# print 'Predictive accuracy on validation data:', score[1]"
   ]
  }
 ],
 "metadata": {
  "kernelspec": {
   "display_name": "Python 3",
   "language": "python",
   "name": "python3"
  },
  "language_info": {
   "codemirror_mode": {
    "name": "ipython",
    "version": 2
   },
   "file_extension": ".py",
   "mimetype": "text/x-python",
   "name": "python",
   "nbconvert_exporter": "python",
   "pygments_lexer": "ipython2",
   "version": "2.7.13"
  }
 },
 "nbformat": 4,
 "nbformat_minor": 2
}
