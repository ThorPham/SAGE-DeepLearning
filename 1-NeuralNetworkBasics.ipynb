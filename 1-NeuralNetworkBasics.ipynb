{
 "cells": [
  {
   "cell_type": "markdown",
   "metadata": {},
   "source": [
    "# 1. Neural Network Basics"
   ]
  },
  {
   "cell_type": "code",
   "execution_count": null,
   "metadata": {},
   "outputs": [],
   "source": [
    "import numpy as np\n",
    "\n",
    "import keras\n",
    "from keras.models import Sequential\n",
    "from keras.layers import Dense, Activation\n",
    "\n",
    "np.random.seed(10)"
   ]
  },
  {
   "cell_type": "markdown",
   "metadata": {},
   "source": [
    "(ignore warning messages if you see any)"
   ]
  },
  {
   "cell_type": "markdown",
   "metadata": {},
   "source": [
    "## 1.1 How a Neural Network Makes Predictions"
   ]
  },
  {
   "cell_type": "code",
   "execution_count": null,
   "metadata": {},
   "outputs": [],
   "source": [
    "# example input/response mapping \n",
    "def f(x):\n",
    "    return np.where(np.dot(x, np.random.rand(3, 1)) > 0.8, 1., 0.)\n",
    "    \n",
    "X = np.random.random((1000, 3))\n",
    "y_true = f(X)\n",
    "\n",
    "# print(X[:3])\n",
    "# print(y_true[:3])"
   ]
  },
  {
   "cell_type": "markdown",
   "metadata": {},
   "source": [
    "Network topology:\n",
    "\n",
    "<img src=\"images/Network.png\"/>"
   ]
  },
  {
   "cell_type": "code",
   "execution_count": null,
   "metadata": {},
   "outputs": [],
   "source": [
    "# create the model\n",
    "neural_network = Sequential()"
   ]
  },
  {
   "cell_type": "code",
   "execution_count": null,
   "metadata": {},
   "outputs": [],
   "source": [
    "hidden_layer1 = Dense(units=2, activation=\"relu\", input_dim=3)\n",
    "neural_network.add(hidden_layer1)"
   ]
  },
  {
   "cell_type": "code",
   "execution_count": null,
   "metadata": {},
   "outputs": [],
   "source": [
    "hidden_layer2 = Dense(units=3, activation='relu')\n",
    "neural_network.add(hidden_layer2)\n",
    "output_layer = Dense(units=2, activation=\"sigmoid\")\n",
    "neural_network.add(output_layer)"
   ]
  },
  {
   "cell_type": "code",
   "execution_count": null,
   "metadata": {},
   "outputs": [],
   "source": [
    "# summarize model architecture\n",
    "neural_network.summary()"
   ]
  },
  {
   "cell_type": "code",
   "execution_count": null,
   "metadata": {},
   "outputs": [],
   "source": [
    "# let's manually set the network's weights \n",
    "# (input neuron weights, bias weights)\n",
    "\n",
    "## input --> hidden layer 1\n",
    "random_weights1 = [np.random.random((3, 2)), np.ones(2)]\n",
    "neural_network.layers[0].set_weights(random_weights1)\n",
    "\n",
    "## hidden layer 1 --> hidden layer 2\n",
    "random_weight2 = [np.random.random((2, 3)), np.ones(3)]\n",
    "neural_network.layers[1].set_weights(random_weight2)\n",
    "\n",
    "## hidden layer 2 --> output layer\n",
    "random_weight3 = [np.random.random((3, 2)), np.ones(2)]\n",
    "neural_network.layers[2].set_weights(random_weight3)"
   ]
  },
  {
   "cell_type": "code",
   "execution_count": null,
   "metadata": {},
   "outputs": [],
   "source": [
    "# predict y from a few X's\n",
    "X_sample = X[:10,:]\n",
    "y_sample_pred = neural_network.predict_classes(X_sample)\n",
    "y_sample_true = y_true[:10]\n",
    "print(\"Pred y:\\t{}\".format(y_sample_pred.reshape(-1)))\n",
    "print(\"True y:\\t{}\".format(y_sample_true.reshape(-1)))"
   ]
  },
  {
   "cell_type": "code",
   "execution_count": null,
   "metadata": {},
   "outputs": [],
   "source": [
    "# evaluate model on predictive accuracy for all X\n",
    "y_pred = neural_network.predict_classes(X)\n",
    "acc = sum(y_true == y_pred.reshape(-1))[0]/float(y_true.shape[0])*100\n",
    "print(\"Accuracy: {}%\".format(acc))"
   ]
  },
  {
   "cell_type": "markdown",
   "metadata": {},
   "source": [
    "## 1.2. How to Train a Neural Network"
   ]
  },
  {
   "cell_type": "markdown",
   "metadata": {},
   "source": [
    "Network topology:\n",
    "\n",
    "<img src=\"images/Network.png\"/>"
   ]
  },
  {
   "cell_type": "code",
   "execution_count": null,
   "metadata": {},
   "outputs": [],
   "source": [
    "# create model\n",
    "smart_neural_network = Sequential()\n",
    "\n",
    "smart_neural_network.add(Dense(2, activation='relu', input_dim=3))\n",
    "smart_neural_network.add(Dense(3, activation='relu'))\n",
    "smart_neural_network.add(Dense(2, activation='sigmoid'))"
   ]
  },
  {
   "cell_type": "code",
   "execution_count": null,
   "metadata": {},
   "outputs": [],
   "source": [
    "# define training parameters\n",
    "smart_neural_network.compile(metrics=['accuracy'],\n",
    "                             loss='binary_crossentropy',\n",
    "                             optimizer='rmsprop')"
   ]
  },
  {
   "cell_type": "code",
   "execution_count": null,
   "metadata": {},
   "outputs": [],
   "source": [
    "# pre-processing: convert responses to 2d categorical vectors\n",
    "from keras.utils import np_utils\n",
    "y_categorical = np_utils.to_categorical(y_true)"
   ]
  },
  {
   "cell_type": "markdown",
   "metadata": {},
   "source": [
    "<img src=\"images/GradientDescent.png\" width=400/>"
   ]
  },
  {
   "cell_type": "code",
   "execution_count": null,
   "metadata": {},
   "outputs": [],
   "source": [
    "# train the model for a number of rounds\n",
    "intial_weights = smart_neural_network.get_weights()\n",
    "smart_neural_network.fit(X, y_categorical, \n",
    "                         epochs=100,\n",
    "                         batch_size=32\n",
    ")"
   ]
  },
  {
   "cell_type": "code",
   "execution_count": null,
   "metadata": {},
   "outputs": [],
   "source": [
    "print(smart_neural_network.metrics_names)"
   ]
  },
  {
   "cell_type": "code",
   "execution_count": null,
   "metadata": {},
   "outputs": [],
   "source": [
    "# evaluate the model accuracy on training data\n",
    "score = smart_neural_network.evaluate(X, y_categorical)\n",
    "print('Training accuracy: {}%'.format(score[1]*100))"
   ]
  },
  {
   "cell_type": "markdown",
   "metadata": {},
   "source": [
    "### But how well can our neural network do on data it's never seen before?"
   ]
  },
  {
   "cell_type": "code",
   "execution_count": null,
   "metadata": {},
   "outputs": [],
   "source": [
    "# split data into training and validation sets\n",
    "NUM_TRAINING_EXAMPLES = 800\n",
    "\n",
    "X_train = X[:NUM_TRAINING_EXAMPLES]\n",
    "y_train = y_categorical[:NUM_TRAINING_EXAMPLES]\n",
    "X_valid = X[NUM_TRAINING_EXAMPLES:]\n",
    "y_valid = y_categorical[NUM_TRAINING_EXAMPLES:]"
   ]
  },
  {
   "cell_type": "code",
   "execution_count": null,
   "metadata": {},
   "outputs": [],
   "source": [
    "# re-train only on training examples\n",
    "smart_neural_network.set_weights(intial_weights)\n",
    "\n",
    "smart_neural_network.compile(metrics=['accuracy'], loss='binary_crossentropy', optimizer='rmsprop')\n",
    "smart_neural_network.fit(X_train, y_train, batch_size=32, epochs=100)   "
   ]
  },
  {
   "cell_type": "code",
   "execution_count": null,
   "metadata": {},
   "outputs": [],
   "source": [
    "# evaluate on validation (never-seen-before) examples \n",
    "validation_scores = smart_neural_network.evaluate(X_valid, y_valid)\n",
    "print('Validation accuracy: {}%'.format(score[1]*100))"
   ]
  },
  {
   "cell_type": "markdown",
   "metadata": {},
   "source": [
    "## Exercise: deep networks"
   ]
  },
  {
   "cell_type": "markdown",
   "metadata": {},
   "source": [
    "Try creating a neural network model with a \"deeper\" architecture (e.g. more than just 1-2 hidden layers). Fit this on the training data from the input/response example given in the notebook and evaluate the predictive error. \n",
    "\n",
    "* Experiment with the number of neurons in each layer.\n",
    "* When training, increase the number of epochs \n",
    "\n",
    "Do you experience any performance gains? Does training run slower than it did before? If so, by how much? Are the performance gains worth it? "
   ]
  },
  {
   "cell_type": "code",
   "execution_count": null,
   "metadata": {},
   "outputs": [],
   "source": [
    "# TODO"
   ]
  },
  {
   "cell_type": "markdown",
   "metadata": {},
   "source": [
    "<i>Sample solution:</i>"
   ]
  },
  {
   "cell_type": "code",
   "execution_count": null,
   "metadata": {},
   "outputs": [],
   "source": [
    "# deep_neural_network = Sequential()\n",
    "# deep_neural_network.add(Dense(128, activation='relu', input_dim=3))\n",
    "# deep_neural_network.add(Dense(64, activation='relu'))\n",
    "# deep_neural_network.add(Dense(32, activation='relu'))\n",
    "# deep_neural_network.add(Dense(2, activation='sigmoid'))\n",
    "# deep_neural_network.compile(metrics=['accuracy'], loss='binary_crossentropy', optimizer='rmsprop')\n",
    "\n",
    "# deep_neural_network.fit(X_train, y_train, epochs=100, batch_size=32)\n",
    "# score = deep_neural_network.evaluate(X_valid, y_valid)\n",
    "\n",
    "# print 'Predictive accuracy on validation data:', score[1]"
   ]
  }
 ],
 "metadata": {
  "kernelspec": {
   "display_name": "Python 3",
   "language": "python",
   "name": "python3"
  },
  "language_info": {
   "codemirror_mode": {
    "name": "ipython",
    "version": 2
   },
   "file_extension": ".py",
   "mimetype": "text/x-python",
   "name": "python",
   "nbconvert_exporter": "python",
   "pygments_lexer": "ipython2",
   "version": "2.7.13"
  }
 },
 "nbformat": 4,
 "nbformat_minor": 2
}
