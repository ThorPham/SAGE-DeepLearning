{
 "cells": [
  {
   "cell_type": "markdown",
   "metadata": {},
   "source": [
    "# 2. Simple Image Recognition"
   ]
  },
  {
   "cell_type": "code",
   "execution_count": null,
   "metadata": {},
   "outputs": [],
   "source": [
    "import numpy as np\n",
    "\n",
    "import matplotlib as mpl\n",
    "import matplotlib.pyplot as plt\n",
    "\n",
    "from keras.datasets import mnist\n",
    "from keras.models import Sequential\n",
    "from keras.layers import Dense\n",
    "from keras.utils import np_utils"
   ]
  },
  {
   "cell_type": "code",
   "execution_count": null,
   "metadata": {},
   "outputs": [],
   "source": [
    "# load data\n",
    "(X_train, y_train), (X_valid, y_valid) = mnist.load_data()"
   ]
  },
  {
   "cell_type": "code",
   "execution_count": null,
   "metadata": {},
   "outputs": [],
   "source": [
    "# visualize data\n",
    "fig = plt.figure(figsize=(12, 8))\n",
    "\n",
    "plt.suptitle(\"Examples of handwritten digits\", fontsize=20)\n",
    "for i in range(9):\n",
    "  plt.subplot(3,3,i+1)\n",
    "  plt.imshow(X_train[i], cmap='gray', interpolation='none')\n",
    "  plt.title(\"Digit: {}\".format(y_train[i]))\n",
    "  plt.xticks([])\n",
    "  plt.yticks([])\n",
    "\n",
    "plt.show()"
   ]
  },
  {
   "cell_type": "code",
   "execution_count": null,
   "metadata": {},
   "outputs": [],
   "source": [
    "# pre-process images\n",
    "num_pixels = X_train.shape[1] * X_train.shape[2]\n",
    "X_train = X_train.reshape(X_train.shape[0], num_pixels).astype('float32')\n",
    "X_valid = X_valid.reshape(X_valid.shape[0], num_pixels).astype('float32')\n",
    "\n",
    "X_train = X_train / 255.\n",
    "X_valid = X_valid / 255."
   ]
  },
  {
   "cell_type": "code",
   "execution_count": null,
   "metadata": {},
   "outputs": [],
   "source": [
    "# convert labels to categorical vectors\n",
    "\n",
    "y_train_categorical = np_utils.to_categorical(y_train)\n",
    "y_valid_categorical = np_utils.to_categorical(y_valid)\n",
    "num_classes = y_valid_categorical.shape[1]"
   ]
  },
  {
   "cell_type": "markdown",
   "metadata": {},
   "source": [
    "<img src=\"images/Network.png\" width=400/>"
   ]
  },
  {
   "cell_type": "code",
   "execution_count": null,
   "metadata": {},
   "outputs": [],
   "source": [
    "# create model\n",
    "digit_predictor = Sequential()\n",
    "\n",
    "digit_predictor.add(Dense(num_pixels, input_dim=num_pixels, activation='relu'))\n",
    "digit_predictor.add(Dense(num_classes, activation='softmax'))\n",
    "\n",
    "digit_predictor.compile(loss='categorical_crossentropy', optimizer='rmsprop', metrics=['accuracy'])"
   ]
  },
  {
   "cell_type": "code",
   "execution_count": null,
   "metadata": {},
   "outputs": [],
   "source": [
    "# train model\n",
    "digit_predictor.fit(X_train, y_train_categorical, epochs=5, batch_size=1000, verbose=1)"
   ]
  },
  {
   "cell_type": "code",
   "execution_count": null,
   "metadata": {},
   "outputs": [],
   "source": [
    "# evaluate on validation data\n",
    "validation_scores = digit_predictor.evaluate(X_valid, y_valid_categorical, verbose=0)\n",
    "print('Validation accuracy: {}%'.format(validation_scores[1]*100))"
   ]
  },
  {
   "cell_type": "code",
   "execution_count": null,
   "metadata": {},
   "outputs": [],
   "source": [
    "# get all predictions on validation data\n",
    "y_pred = digit_predictor.predict_classes(X_valid).reshape(-1)"
   ]
  },
  {
   "cell_type": "code",
   "execution_count": null,
   "metadata": {},
   "outputs": [],
   "source": [
    "# visualize a few predictions on validation data\n",
    "cols = 5\n",
    "rows = 5\n",
    "fig, ax = plt.subplots(rows, cols, figsize=(15, 18))\n",
    "fig.suptitle(\"Validation predictions\", fontsize=20)\n",
    "\n",
    "v = 0\n",
    "for row in range(0, rows): \n",
    "    for col in range(0, cols):\n",
    "        ax[row][col].imshow(X_valid[v].reshape(28, 28), cmap=\"gray\")\n",
    "        title = \"True=%s\\nPredicted=%s\" % (y_valid[v], y_pred[v])\n",
    "        if y_valid[v] != y_pred[v]:\n",
    "            title += \" [X]\"\n",
    "        ax[row][col].set_title(title)\n",
    "        ax[row][col].set_yticks([])\n",
    "        ax[row][col].set_xticks([])\n",
    "        v += 1\n",
    "\n",
    "plt.show()"
   ]
  }
 ],
 "metadata": {
  "kernelspec": {
   "display_name": "Python 3",
   "language": "python",
   "name": "python3"
  },
  "language_info": {
   "codemirror_mode": {
    "name": "ipython",
    "version": 2
   },
   "file_extension": ".py",
   "mimetype": "text/x-python",
   "name": "python",
   "nbconvert_exporter": "python",
   "pygments_lexer": "ipython2",
   "version": "2.7.13"
  }
 },
 "nbformat": 4,
 "nbformat_minor": 2
}
